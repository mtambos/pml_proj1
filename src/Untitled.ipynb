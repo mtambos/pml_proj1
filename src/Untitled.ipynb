{
 "cells": [
  {
   "cell_type": "code",
   "execution_count": 1,
   "metadata": {},
   "outputs": [
    {
     "name": "stdout",
     "output_type": "stream",
     "text": [
      "ans =\n",
      "\n",
      "   0\n",
      "   1\n",
      "   1\n",
      "   1\n",
      "\n"
     ]
    }
   ],
   "source": [
    "P = 3;\n",
    "be.mu = [0; ones(P, 1)];\n",
    "be.sigma = eye(P + 1, P + 1);\n",
    "be.mu"
   ]
  },
  {
   "cell_type": "code",
   "execution_count": 4,
   "metadata": {},
   "outputs": [
    {
     "name": "stdout",
     "output_type": "stream",
     "text": [
      "a =\n",
      "\n",
      "  scalar structure containing the fields:\n",
      "\n",
      "    mu =\n",
      "\n",
      "       1.60197\n",
      "       0.32983\n",
      "      -0.11706\n",
      "      -0.31418\n",
      "       0.21864\n",
      "\n",
      "    sigma =\n",
      "\n",
      "Diagonal Matrix\n",
      "\n",
      "       1   0   0   0   0\n",
      "       0   1   0   0   0\n",
      "       0   0   1   0   0\n",
      "       0   0   0   1   0\n",
      "       0   0   0   0   1\n",
      "\n",
      "\n"
     ]
    }
   ],
   "source": [
    "N = 5;\n",
    "a.mu = [1.601969;  0.329826; -0.117059; -0.314183;  0.218641];\n",
    "a.sigma = eye(N, N);\n",
    "a"
   ]
  },
  {
   "cell_type": "code",
   "execution_count": 5,
   "metadata": {},
   "outputs": [
    {
     "name": "stdout",
     "output_type": "stream",
     "text": [
      "atimesaT =\n",
      "\n",
      "  scalar structure containing the fields:\n",
      "\n",
      "    mu =\n",
      "\n",
      "       3.566305   0.528371  -0.187525  -0.503311   0.350256\n",
      "       0.528371   1.108785  -0.038609  -0.103626   0.072113\n",
      "      -0.187525  -0.038609   1.013703   0.036778  -0.025594\n",
      "      -0.503311  -0.103626   0.036778   1.098711  -0.068693\n",
      "       0.350256   0.072113  -0.025594  -0.068693   1.047804\n",
      "\n",
      "\n"
     ]
    }
   ],
   "source": [
    "atimesaT.mu = a.mu * a.mu' + a.sigma"
   ]
  },
  {
   "cell_type": "code",
   "execution_count": 12,
   "metadata": {},
   "outputs": [
    {
     "name": "stdout",
     "output_type": "stream",
     "text": [
      "GtimesGT =\n",
      "\n",
      "  scalar structure containing the fields:\n",
      "\n",
      "    mu =\n",
      "\n",
      "       12.8439    7.8186    4.4702\n",
      "        7.8186   15.9689    6.8002\n",
      "        4.4702    6.8002   13.1099\n",
      "\n",
      "\n"
     ]
    }
   ],
   "source": [
    "parameters.margin = 0.1;\n",
    "y = randn(N, 1);\n",
    "%G.mu = (abs(randn(P, N)) + parameters.margin) .* sign(repmat(y', P, 1))\n",
    "G.mu = [\n",
    "      -1.31929  -0.45312  -0.55603   1.48597  -1.83869;\n",
    "      -0.80358  -0.70127  -0.53890   2.93264  -0.96983;\n",
    "      -0.10758  -2.27073  -0.78157   1.48413  -0.35861;\n",
    "];\n",
    "G.sigma = eye(P, P);\n",
    "GtimesGT.mu = G.mu * G.mu' + N * G.sigma"
   ]
  },
  {
   "cell_type": "code",
   "execution_count": 13,
   "metadata": {},
   "outputs": [
    {
     "name": "stdout",
     "output_type": "stream",
     "text": [
      "gamma =\n",
      "\n",
      "  scalar structure containing the fields:\n",
      "\n",
      "    alpha =  1.5000\n",
      "    beta =  1\n",
      "\n"
     ]
    }
   ],
   "source": [
    "parameters.alpha_gamma = 1;\n",
    "parameters.beta_gamma = 1;\n",
    "gamma.alpha = (parameters.alpha_gamma + 0.5);\n",
    "gamma.beta = parameters.beta_gamma"
   ]
  },
  {
   "cell_type": "code",
   "execution_count": 14,
   "metadata": {},
   "outputs": [
    {
     "name": "stdout",
     "output_type": "stream",
     "text": [
      "omega =\n",
      "\n",
      "  scalar structure containing the fields:\n",
      "\n",
      "    alpha =\n",
      "\n",
      "       1.5000\n",
      "       1.5000\n",
      "       1.5000\n",
      "\n",
      "    beta =\n",
      "\n",
      "       1\n",
      "       1\n",
      "       1\n",
      "\n",
      "\n"
     ]
    }
   ],
   "source": [
    "parameters.alpha_omega = 1;\n",
    "parameters.beta_omega = 1;\n",
    "omega.alpha = (parameters.alpha_omega + 0.5) * ones(P, 1);\n",
    "omega.beta = parameters.beta_omega * ones(P, 1)"
   ]
  },
  {
   "cell_type": "code",
   "execution_count": 16,
   "metadata": {},
   "outputs": [
    {
     "name": "stdout",
     "output_type": "stream",
     "text": [
      "btimesbT =\n",
      "\n",
      "  scalar structure containing the fields:\n",
      "\n",
      "    mu =  1\n",
      "\n"
     ]
    }
   ],
   "source": [
    "be.mu = [0; ones(P, 1)];\n",
    "be.sigma = eye(P + 1, P + 1);\n",
    "btimesbT.mu = be.mu(1)^2 + be.sigma(1, 1)"
   ]
  },
  {
   "cell_type": "code",
   "execution_count": 17,
   "metadata": {},
   "outputs": [
    {
     "name": "stdout",
     "output_type": "stream",
     "text": [
      "etimeseT =\n",
      "\n",
      "  scalar structure containing the fields:\n",
      "\n",
      "    mu =\n",
      "\n",
      "       2   1   1\n",
      "       1   2   1\n",
      "       1   1   2\n",
      "\n",
      "\n"
     ]
    }
   ],
   "source": [
    "etimeseT.mu = be.mu(2:P + 1) * be.mu(2:P + 1)' + be.sigma(2:P + 1, 2:P + 1)"
   ]
  },
  {
   "cell_type": "code",
   "execution_count": 18,
   "metadata": {},
   "outputs": [
    {
     "name": "stdout",
     "output_type": "stream",
     "text": [
      "etimesb =\n",
      "\n",
      "  scalar structure containing the fields:\n",
      "\n",
      "    mu =\n",
      "\n",
      "       0\n",
      "       0\n",
      "       0\n",
      "\n",
      "\n"
     ]
    }
   ],
   "source": [
    "etimesb.mu = be.mu(2:P + 1) * be.mu(1) + be.sigma(2:P + 1, 1)"
   ]
  },
  {
   "cell_type": "code",
   "execution_count": 1,
   "metadata": {},
   "outputs": [
    {
     "name": "stdout",
     "output_type": "stream",
     "text": [
      "ans =\n",
      "\n",
      "    2.372055   -0.166453   -1.430757   -0.442533   -2.112507\n",
      "   -0.166453    4.785785    1.776908    3.062804   -3.261190\n",
      "   -1.430757    1.776908    3.195641    0.271219    2.521425\n",
      "   -0.442533    3.062804    0.271219    5.554183   -1.244647\n",
      "   -2.112507   -3.261190    2.521425   -1.244647   10.424807\n",
      "    3.474971    1.055947    1.423410   -0.947733   -0.590953\n",
      "    1.055947    3.358305    3.458682    1.855405   -1.476299\n",
      "    1.423410    3.458682    4.816339    2.455466   -2.534247\n",
      "   -0.947733    1.855405    2.455466    4.315312   -1.027061\n",
      "   -0.590953   -1.476299   -2.534247   -1.027061    3.010070\n",
      "    3.215253    1.136621   -0.456287    2.361439   -2.411206\n",
      "    1.136621    4.420881    1.302505    0.598304   -0.333053\n",
      "   -0.456287    1.302505    0.826788   -0.077498   -0.078565\n",
      "    2.361439    0.598304   -0.077498    2.839409   -2.504883\n",
      "   -2.411206   -0.333053   -0.078565   -2.504883    4.977380\n",
      "\n"
     ]
    }
   ],
   "source": [
    "Km = [\n",
    "    2.372055,  -0.166453,  -1.430757,  -0.442533,  -2.112507;\n",
    "   -0.166453,   4.785785,   1.776908,   3.062804,  -3.26119 ;\n",
    "   -1.430757,   1.776908,   3.195641,   0.271219,   2.521425;\n",
    "   -0.442533,   3.062804,   0.271219,   5.554183,  -1.244647;\n",
    "   -2.112507,  -3.26119 ,   2.521425,  -1.244647,  10.424807;\n",
    "    3.474971,   1.055947,   1.42341 ,  -0.947733,  -0.590953;\n",
    "    1.055947,   3.358305,   3.458682,   1.855405,  -1.476299;\n",
    "    1.42341 ,   3.458682,   4.816339,   2.455466,  -2.534247;\n",
    "   -0.947733,   1.855405,   2.455466,   4.315312,  -1.027061;\n",
    "   -0.590953,  -1.476299,  -2.534247,  -1.027061,   3.01007 ;\n",
    "    3.215253,   1.136621,  -0.456287,   2.361439,  -2.411206;\n",
    "    1.136621,   4.420881,   1.302505,   0.598304,  -0.333053;\n",
    "   -0.456287,   1.302505,   0.826788,  -0.077498,  -0.078565;\n",
    "    2.361439,   0.598304,  -0.077498,   2.839409,  -2.504883;\n",
    "   -2.411206,  -0.333053,  -0.078565,  -2.504883,   4.97738\n",
    "]';\n",
    "Km'"
   ]
  },
  {
   "cell_type": "code",
   "execution_count": 28,
   "metadata": {},
   "outputs": [
    {
     "name": "stdout",
     "output_type": "stream",
     "text": [
      "KmtimesGT =\n",
      "\n",
      "  scalar structure containing the fields:\n",
      "\n",
      "    mu =\n",
      "\n",
      "       -3.73891\n",
      "       -0.75541\n",
      "       -5.07515\n",
      "       24.93586\n",
      "      -25.63559\n",
      "\n",
      "\n"
     ]
    }
   ],
   "source": [
    "KmtimesGT.mu = Km * reshape(G.mu', N * P, 1)"
   ]
  },
  {
   "cell_type": "code",
   "execution_count": 30,
   "metadata": {},
   "outputs": [
    {
     "name": "stdout",
     "output_type": "stream",
     "text": [
      "a =\n",
      "\n",
      "  scalar structure containing the fields:\n",
      "\n",
      "    mu =\n",
      "\n",
      "      -0.372648\n",
      "      -0.503973\n",
      "       0.086240\n",
      "       0.447222\n",
      "      -0.304406\n",
      "\n",
      "    sigma =\n",
      "\n",
      "       3.3934e-04   2.7036e-05  -4.5482e-05   3.7739e-05   1.4079e-04\n",
      "       2.7036e-05   3.7711e-04  -2.2197e-04  -9.6744e-05   1.3138e-04\n",
      "      -4.5482e-05  -2.2197e-04   3.1744e-04  -4.7323e-05  -1.2934e-04\n",
      "       3.7739e-05  -9.6744e-05  -4.7323e-05   2.3568e-04   6.1504e-05\n",
      "       1.4079e-04   1.3138e-04  -1.2934e-04   6.1504e-05   1.7977e-04\n",
      "\n",
      "\n",
      "atimesaT =\n",
      "\n",
      "  scalar structure containing the fields:\n",
      "\n",
      "    mu =\n",
      "\n",
      "       0.1392059   0.1878316  -0.0321828  -0.1666187   0.1135770\n",
      "       0.1878316   0.2543658  -0.0436847  -0.2254846   0.1535436\n",
      "      -0.0321828  -0.0436847   0.0077548   0.0385212  -0.0263814\n",
      "      -0.1666187  -0.2254846   0.0385212   0.2002433  -0.1360754\n",
      "       0.1135770   0.1535436  -0.0263814  -0.1360754   0.0928426\n",
      "\n",
      "\n"
     ]
    }
   ],
   "source": [
    "parameters.alpha_lambda = 1;\n",
    "parameters.beta_lambda = 1;\n",
    "lambda.alpha = (parameters.alpha_lambda + 0.5) * ones(N, 1);\n",
    "lambda.beta = parameters.beta_lambda * ones(N, 1);\n",
    "sigma_g = 0.1;\n",
    "\n",
    "Km = reshape(Km, [N, N, P]);\n",
    "KmKm = zeros(N, N);\n",
    "for m = 1:P\n",
    "    KmKm = KmKm + Km(:, :, m) * Km(:, :, m)';\n",
    "end\n",
    "Km = reshape(Km, [N, N * P]);\n",
    "\n",
    "a.sigma = (diag(lambda.alpha .* lambda.beta) + KmKm / sigma_g^2) \\ eye(N, N);\n",
    "a.mu = a.sigma * KmtimesGT.mu / sigma_g^2\n",
    "atimesaT.mu = a.mu * a.mu' + a.sigma"
   ]
  },
  {
   "cell_type": "code",
   "execution_count": 32,
   "metadata": {},
   "outputs": [
    {
     "name": "stdout",
     "output_type": "stream",
     "text": [
      "G =\n",
      "\n",
      "  scalar structure containing the fields:\n",
      "\n",
      "    mu =\n",
      "\n",
      "      -4.5326e-01   1.8990e-01  -7.2458e-01   1.4538e+00  -1.0313e+00\n",
      "      -1.9087e+00  -4.7781e-01   1.2466e-02   1.8151e+00  -5.8396e-01\n",
      "       2.3922e-04  -2.1231e+00  -4.2047e-01   7.9699e-01  -1.5204e+00\n",
      "\n",
      "    sigma =\n",
      "\n",
      "       9.8058e-03  -9.5202e-05  -9.5202e-05\n",
      "      -9.5202e-05   9.8058e-03  -9.5202e-05\n",
      "      -9.5202e-05  -9.5202e-05   9.8058e-03\n",
      "\n",
      "\n",
      "GtimesGT =\n",
      "\n",
      "  scalar structure containing the fields:\n",
      "\n",
      "    mu =\n",
      "\n",
      "       3.9928   4.0060   2.6277\n",
      "       4.0060   7.5562   3.3427\n",
      "       2.6277   3.3427   7.6803\n",
      "\n",
      "\n",
      "KmtimesGT =\n",
      "\n",
      "  scalar structure containing the fields:\n",
      "\n",
      "    mu =\n",
      "\n",
      "       -3.70175\n",
      "       -0.78437\n",
      "       -4.96381\n",
      "       24.16399\n",
      "      -24.69460\n",
      "\n",
      "\n"
     ]
    }
   ],
   "source": [
    "parameters.margin = 1;\n",
    "f.mu = [-0.311384;  0.184717; -1.016264;  0.147183;  0.877273];\n",
    "f.sigma = ones(N, 1);\n",
    "\n",
    "G.sigma = (eye(P, P) / sigma_g^2 + etimeseT.mu) \\ eye(P, P);\n",
    "G.mu = G.sigma * (reshape(a.mu' * Km, [N, P])' / sigma_g^2 + be.mu(2:P + 1) * f.mu' - repmat(etimesb.mu, 1, N))\n",
    "\n",
    "GtimesGT.mu = G.mu * G.mu' + N * G.sigma\n",
    "KmtimesGT.mu = Km * reshape(G.mu', N * P, 1)"
   ]
  },
  {
   "cell_type": "code",
   "execution_count": 33,
   "metadata": {},
   "outputs": [
    {
     "name": "stdout",
     "output_type": "stream",
     "text": [
      "gamma =\n",
      "\n",
      "  scalar structure containing the fields:\n",
      "\n",
      "    alpha =  1.5000\n",
      "    beta =  0.66667\n",
      "\n"
     ]
    }
   ],
   "source": [
    "gamma.beta = 1 / (1 / parameters.beta_gamma + 0.5 * btimesbT.mu)"
   ]
  },
  {
   "cell_type": "code",
   "execution_count": 34,
   "metadata": {},
   "outputs": [
    {
     "name": "stdout",
     "output_type": "stream",
     "text": [
      "omega =\n",
      "\n",
      "  scalar structure containing the fields:\n",
      "\n",
      "    alpha =\n",
      "\n",
      "       1.5000\n",
      "       1.5000\n",
      "       1.5000\n",
      "\n",
      "    beta =\n",
      "\n",
      "       0.50000\n",
      "       0.50000\n",
      "       0.50000\n",
      "\n",
      "\n"
     ]
    }
   ],
   "source": [
    "omega.beta = 1 ./ (1 / parameters.beta_omega + 0.5 * diag(etimeseT.mu))"
   ]
  },
  {
   "cell_type": "code",
   "execution_count": 37,
   "metadata": {},
   "outputs": [
    {
     "name": "stdout",
     "output_type": "stream",
     "text": [
      "be =\n",
      "\n",
      "  scalar structure containing the fields:\n",
      "\n",
      "    mu =\n",
      "\n",
      "      -0.135540\n",
      "       0.126941\n",
      "       0.051734\n",
      "      -0.252750\n",
      "\n",
      "    sigma =\n",
      "\n",
      "       0.2139369  -0.0311523   0.0085580   0.0892182\n",
      "      -0.0311523   0.3797341  -0.1605567  -0.0667706\n",
      "       0.0085580  -0.1605567   0.2112376  -0.0303974\n",
      "       0.0892182  -0.0667706  -0.0303974   0.1860578\n",
      "\n",
      "\n",
      "btimesbT =\n",
      "\n",
      "  scalar structure containing the fields:\n",
      "\n",
      "    mu =  0.23231\n",
      "\n",
      "etimeseT =\n",
      "\n",
      "  scalar structure containing the fields:\n",
      "\n",
      "    mu =\n",
      "\n",
      "       0.395848  -0.153990  -0.098855\n",
      "      -0.153990   0.213914  -0.043473\n",
      "      -0.098855  -0.043473   0.249940\n",
      "\n",
      "\n",
      "etimesb =\n",
      "\n",
      "  scalar structure containing the fields:\n",
      "\n",
      "    mu =\n",
      "\n",
      "      -0.0483579\n",
      "       0.0015460\n",
      "       0.1234761\n",
      "\n",
      "\n"
     ]
    }
   ],
   "source": [
    "be.sigma = [gamma.alpha * gamma.beta + N, sum(G.mu, 2)'; sum(G.mu, 2), diag(omega.alpha .* omega.beta) + GtimesGT.mu] \\ eye(P + 1, P + 1);\n",
    "be.mu = be.sigma * ([ones(1, N); G.mu] * f.mu)\n",
    "btimesbT.mu = be.mu(1)^2 + be.sigma(1, 1)\n",
    "etimeseT.mu = be.mu(2:P + 1) * be.mu(2:P + 1)' + be.sigma(2:P + 1, 2:P + 1)\n",
    "etimesb.mu = be.mu(2:P + 1) * be.mu(1) + be.sigma(2:P + 1, 1)"
   ]
  },
  {
   "cell_type": "code",
   "execution_count": 42,
   "metadata": {},
   "outputs": [
    {
     "name": "stdout",
     "output_type": "stream",
     "text": [
      "y =\n",
      "\n",
      "   0.83460\n",
      "   0.75760\n",
      "  -0.58986\n",
      "   1.18739\n",
      "  -1.98762\n",
      "\n"
     ]
    }
   ],
   "source": [
    "y"
   ]
  },
  {
   "cell_type": "code",
   "execution_count": 48,
   "metadata": {},
   "outputs": [
    {
     "name": "stdout",
     "output_type": "stream",
     "text": [
      "output =\n",
      "\n",
      "  -0.291883\n",
      "   0.400458\n",
      "  -0.120602\n",
      "  -0.058529\n",
      "   0.087622\n",
      "\n",
      "alpha_norm =\n",
      "\n",
      "   1.2919e+00\n",
      "   5.9954e-01\n",
      "  -1.0000e+40\n",
      "   1.0585e+00\n",
      "  -1.0000e+40\n",
      "\n",
      "beta_norm =\n",
      "\n",
      "   1.0000e+40\n",
      "   1.0000e+40\n",
      "  -8.7940e-01\n",
      "   1.0000e+40\n",
      "  -1.0876e+00\n",
      "\n",
      "normalization =\n",
      "\n",
      "   0.098199\n",
      "   0.274406\n",
      "   0.189593\n",
      "   0.144907\n",
      "   0.138381\n",
      "\n",
      "f =\n",
      "\n",
      "  scalar structure containing the fields:\n",
      "\n",
      "    mu =\n",
      "\n",
      "       1.4717\n",
      "       1.6151\n",
      "      -1.5500\n",
      "       1.5137\n",
      "      -1.5081\n",
      "\n",
      "    sigma =\n",
      "\n",
      "       0.16814\n",
      "       0.25280\n",
      "       0.21379\n",
      "       0.19239\n",
      "       0.18915\n",
      "\n",
      "\n"
     ]
    }
   ],
   "source": [
    "lower_bound = -1e40 * ones(N, 1);\n",
    "lower_bound(y > 0) = +parameters.margin;\n",
    "upper_bound = +1e40 * ones(N, 1);\n",
    "upper_bound(y < 0) = -parameters.margin;\n",
    "\n",
    "output = [ones(1, N); G.mu]' * be.mu\n",
    "alpha_norm = lower_bound - output\n",
    "beta_norm = upper_bound - output\n",
    "normalization = normcdf(beta_norm) - normcdf(alpha_norm);\n",
    "normalization(normalization == 0) = 1\n",
    "f.mu = output + (normpdf(alpha_norm) - normpdf(beta_norm)) ./ normalization;\n",
    "f.sigma = 1 + (alpha_norm .* normpdf(alpha_norm) - beta_norm .* normpdf(beta_norm)) ./ normalization - (normpdf(alpha_norm) - normpdf(beta_norm)).^2 ./ normalization.^2"
   ]
  },
  {
   "cell_type": "code",
   "execution_count": 3,
   "metadata": {},
   "outputs": [
    {
     "name": "stdout",
     "output_type": "stream",
     "text": [
      "ans =\n",
      "\n",
      "  scalar structure containing the fields:\n",
      "\n",
      "    mu =\n",
      "\n",
      "      -0.478293   0.165842  -0.732995   1.507559  -1.081786\n",
      "      -1.948312  -0.508543   0.011426   1.872402  -0.629929\n",
      "      -0.020261  -2.170278  -0.425834   0.844150  -1.575778\n",
      "\n",
      "    sigma =\n",
      "\n",
      "       0.011461   0.012913   0.012002   0.015516   0.018133\n",
      "       0.014134   0.011912   0.013960   0.013209   0.012537\n",
      "       0.013250   0.015092   0.010483   0.012385   0.012992\n",
      "\n",
      "\n",
      "prediction =\n",
      "\n",
      "  scalar structure containing the fields:\n",
      "\n",
      "    G =\n",
      "\n",
      "      scalar structure containing the fields:\n",
      "\n",
      "        mu =\n",
      "\n",
      "          -0.478293   0.165842  -0.732995   1.507559  -1.081786\n",
      "          -1.948312  -0.508543   0.011426   1.872402  -0.629929\n",
      "          -0.020261  -2.170278  -0.425834   0.844150  -1.575778\n",
      "\n",
      "        sigma =\n",
      "\n",
      "           0.011461   0.012913   0.012002   0.015516   0.018133\n",
      "           0.014134   0.011912   0.013960   0.013209   0.012537\n",
      "           0.013250   0.015092   0.010483   0.012385   0.012992\n",
      "\n",
      "\n",
      "    f =\n",
      "\n",
      "      scalar structure containing the fields:\n",
      "\n",
      "        mu =\n",
      "\n",
      "          -0.291928\n",
      "           0.407741\n",
      "          -0.120366\n",
      "          -0.060661\n",
      "           0.092826\n",
      "\n",
      "        sigma =\n",
      "\n",
      "           1.7926\n",
      "           1.7571\n",
      "           1.3829\n",
      "           1.8664\n",
      "           1.4728\n",
      "\n",
      "\n",
      "    p =\n",
      "\n",
      "       0.40474\n",
      "       0.63503\n",
      "       0.44331\n",
      "       0.48104\n",
      "       0.54008\n",
      "\n",
      "\n",
      "pos =\n",
      "\n",
      "   0.23555\n",
      "   0.36803\n",
      "   0.20893\n",
      "   0.28492\n",
      "   0.26896\n",
      "\n",
      "neg =\n",
      "\n",
      "   0.34643\n",
      "   0.21152\n",
      "   0.26236\n",
      "   0.30738\n",
      "   0.22904\n",
      "\n",
      "prediction =\n",
      "\n",
      "  scalar structure containing the fields:\n",
      "\n",
      "    G =\n",
      "\n",
      "      scalar structure containing the fields:\n",
      "\n",
      "        mu =\n",
      "\n",
      "          -0.478293   0.165842  -0.732995   1.507559  -1.081786\n",
      "          -1.948312  -0.508543   0.011426   1.872402  -0.629929\n",
      "          -0.020261  -2.170278  -0.425834   0.844150  -1.575778\n",
      "\n",
      "        sigma =\n",
      "\n",
      "           0.011461   0.012913   0.012002   0.015516   0.018133\n",
      "           0.014134   0.011912   0.013960   0.013209   0.012537\n",
      "           0.013250   0.015092   0.010483   0.012385   0.012992\n",
      "\n",
      "\n",
      "    f =\n",
      "\n",
      "      scalar structure containing the fields:\n",
      "\n",
      "        mu =\n",
      "\n",
      "          -0.291928\n",
      "           0.407741\n",
      "          -0.120366\n",
      "          -0.060661\n",
      "           0.092826\n",
      "\n",
      "        sigma =\n",
      "\n",
      "           1.7926\n",
      "           1.7571\n",
      "           1.3829\n",
      "           1.8664\n",
      "           1.4728\n",
      "\n",
      "\n",
      "    p =\n",
      "\n",
      "       0.40474\n",
      "       0.63503\n",
      "       0.44331\n",
      "       0.48104\n",
      "       0.54008\n",
      "\n",
      "\n"
     ]
    }
   ],
   "source": [
    "Km = [\n",
    "    2.372055,  -0.166453,  -1.430757,  -0.442533,  -2.112507;\n",
    "   -0.166453,   4.785785,   1.776908,   3.062804,  -3.26119 ;\n",
    "   -1.430757,   1.776908,   3.195641,   0.271219,   2.521425;\n",
    "   -0.442533,   3.062804,   0.271219,   5.554183,  -1.244647;\n",
    "   -2.112507,  -3.26119 ,   2.521425,  -1.244647,  10.424807;\n",
    "    3.474971,   1.055947,   1.42341 ,  -0.947733,  -0.590953;\n",
    "    1.055947,   3.358305,   3.458682,   1.855405,  -1.476299;\n",
    "    1.42341 ,   3.458682,   4.816339,   2.455466,  -2.534247;\n",
    "   -0.947733,   1.855405,   2.455466,   4.315312,  -1.027061;\n",
    "   -0.590953,  -1.476299,  -2.534247,  -1.027061,   3.01007 ;\n",
    "    3.215253,   1.136621,  -0.456287,   2.361439,  -2.411206;\n",
    "    1.136621,   4.420881,   1.302505,   0.598304,  -0.333053;\n",
    "   -0.456287,   1.302505,   0.826788,  -0.077498,  -0.078565;\n",
    "    2.361439,   0.598304,  -0.077498,   2.839409,  -2.504883;\n",
    "   -2.411206,  -0.333053,  -0.078565,  -2.504883,   4.97738\n",
    "]';\n",
    "\n",
    "N = 5;\n",
    "P = 3;\n",
    "Km = reshape(Km, N, N, P);\n",
    "N = size(Km, 2);\n",
    "P = size(Km, 3);\n",
    "\n",
    "state.a.mu = [-0.372648; -0.503973; 0.086240; 0.447222; -0.304406];\n",
    "state.a.sigma =[\n",
    "       3.3934e-04   2.7036e-05  -4.5482e-05   3.7739e-05   1.4079e-04;\n",
    "       2.7036e-05   3.7711e-04  -2.2197e-04  -9.6744e-05   1.3138e-04;\n",
    "      -4.5482e-05  -2.2197e-04   3.1744e-04  -4.7323e-05  -1.2934e-04;\n",
    "       3.7739e-05  -9.6744e-05  -4.7323e-05   2.3568e-04   6.1504e-05;\n",
    "       1.4079e-04   1.3138e-04  -1.2934e-04   6.1504e-05   1.7977e-04;\n",
    "];\n",
    "state.be.mu = [-0.135540; 0.126941; 0.051734; -0.252750];\n",
    "state.be.sigma =[\n",
    "       0.2139369  -0.0311523   0.0085580   0.0892182;\n",
    "      -0.0311523   0.3797341  -0.1605567  -0.0667706;\n",
    "       0.0085580  -0.1605567   0.2112376  -0.0303974;\n",
    "       0.0892182  -0.0667706  -0.0303974   0.1860578;\n",
    "];\n",
    "state.parameters.sigma_g = 0.1;\n",
    "state.parameters.margin = 1;\n",
    "\n",
    "prediction.G.mu = zeros(P, N);\n",
    "prediction.G.sigma = zeros(P, N);\n",
    "for m = 1:P\n",
    "    prediction.G.mu(m, :) = state.a.mu' * Km(:, :, m);\n",
    "    prediction.G.sigma(m, :) = state.parameters.sigma_g^2 + diag(Km(:, :, m)' * state.a.sigma * Km(:, :, m));\n",
    "end\n",
    "\n",
    "prediction.G\n",
    "\n",
    "prediction.f.mu = [ones(1, N); prediction.G.mu]' * state.be.mu;\n",
    "prediction.f.sigma = 1 + diag([ones(1, N); prediction.G.mu]' * state.be.sigma * [ones(1, N); prediction.G.mu])\n",
    "\n",
    "pos = 1 - normcdf((+state.parameters.margin - prediction.f.mu) ./ prediction.f.sigma)\n",
    "neg = normcdf((-state.parameters.margin - prediction.f.mu) ./ prediction.f.sigma)\n",
    "prediction.p = pos ./ (pos + neg)"
   ]
  },
  {
   "cell_type": "code",
   "execution_count": 8,
   "metadata": {},
   "outputs": [
    {
     "name": "stdout",
     "output_type": "stream",
     "text": [
      "ans =\n",
      "\n",
      "  -0.39499\n",
      "  -0.80117\n",
      "  -0.63607\n",
      "  -0.50329\n",
      "  -0.74202\n",
      "\n"
     ]
    }
   ],
   "source": [
    "(-state.parameters.margin - prediction.f.mu)./prediction.f.sigma"
   ]
  }
 ],
 "metadata": {
  "kernelspec": {
   "display_name": "Octave",
   "language": "octave",
   "name": "octave"
  },
  "language_info": {
   "file_extension": ".m",
   "help_links": [
    {
     "text": "GNU Octave",
     "url": "https://www.gnu.org/software/octave/support.html"
    },
    {
     "text": "Octave Kernel",
     "url": "https://github.com/Calysto/octave_kernel"
    },
    {
     "text": "MetaKernel Magics",
     "url": "https://github.com/calysto/metakernel/blob/master/metakernel/magics/README.md"
    }
   ],
   "mimetype": "text/x-octave",
   "name": "octave",
   "version": "4.0.0"
  }
 },
 "nbformat": 4,
 "nbformat_minor": 2
}
