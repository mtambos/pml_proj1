{
 "cells": [
  {
   "cell_type": "code",
   "execution_count": 82,
   "metadata": {},
   "outputs": [
    {
     "name": "stdout",
     "output_type": "stream",
     "text": [
      "The autoreload extension is already loaded. To reload it, use:\n",
      "  %reload_ext autoreload\n",
      "Populating the interactive namespace from numpy and matplotlib\n"
     ]
    }
   ],
   "source": [
    "%load_ext autoreload\n",
    "%autoreload 2\n",
    "%pylab inline\n",
    "\n",
    "import pandas as pd\n",
    "from scipy.spatial.distance import cdist\n",
    "import seaborn as sns\n",
    "from sklearn.model_selection import cross_validate, RepeatedStratifiedKFold\n",
    "from sklearn.preprocessing import Normalizer\n",
    "from sklearn.pipeline import make_pipeline\n",
    "\n",
    "from BEKML import BEMKL, poly_kernel, gauss_kernel, scoring\n",
    "\n",
    "sns.set(style='ticks', context='talk')\n",
    "np.set_printoptions(precision=4, linewidth=100)"
   ]
  },
  {
   "cell_type": "code",
   "execution_count": null,
   "metadata": {},
   "outputs": [],
   "source": [
    "data = pd.read_csv('data/breast.csv', names=list(range(11)), index_col=0, na_values='?')\n",
    "display(data.describe())\n",
    "data = data.dropna()\n",
    "display(data.head())\n",
    "data.describe()"
   ]
  },
  {
   "cell_type": "code",
   "execution_count": 73,
   "metadata": {},
   "outputs": [
    {
     "data": {
      "text/plain": [
       "(683, 9)"
      ]
     },
     "metadata": {},
     "output_type": "display_data"
    },
    {
     "data": {
      "text/plain": [
       "(683,)"
      ]
     },
     "metadata": {},
     "output_type": "display_data"
    },
    {
     "data": {
      "text/plain": [
       "-0.3001464128843338"
      ]
     },
     "metadata": {},
     "output_type": "display_data"
    }
   ],
   "source": [
    "X = data.iloc[:, :-1].copy()\n",
    "y = data.iloc[:, -1].copy()\n",
    "N, D = X.shape\n",
    "y.loc[y == 2] = -1\n",
    "y.loc[y == 4] = 1\n",
    "display(X.shape, y.shape, y.mean())"
   ]
  },
  {
   "cell_type": "code",
   "execution_count": 77,
   "metadata": {},
   "outputs": [],
   "source": [
    "kernels = [lambda A, B: gauss_kernel(A, B, 2**i) for i in range(-3, 7)]\n",
    "kernels += [lambda A, B: poly_kernel(A, B, 0, i) for i in range(1, 4)]\n",
    "kernels += [lambda A, B: gauss_kernel(A[:, j:j+1], B[:, j:j+1], 2**i) for i in range(-3, 7) for j in range(D)]\n",
    "kernels += [lambda A, B: poly_kernel(A[:, j:j+1], B[:, j:j+1], 0, i) for i in range(1, 4) for j in range(D)]\n",
    "sparse_model = BEMKL(kernels=kernels, alpha_lambda=1, beta_lambda=1, alpha_gamma=1, beta_gamma=1, alpha_omega=1e-11, beta_omega=1e+9)\n",
    "normal_model = BEMKL(kernels=kernels, alpha_lambda=1, beta_lambda=1, alpha_gamma=1, beta_gamma=1, alpha_omega=1, beta_omega=1)\n",
    "len(kernels)"
   ]
  },
  {
   "cell_type": "code",
   "execution_count": 78,
   "metadata": {},
   "outputs": [],
   "source": [
    "sparse_pipeline = make_pipeline(Normalizer(), sparse_model)\n",
    "normal_pipeline = make_pipeline(Normalizer(), normal_model)"
   ]
  },
  {
   "cell_type": "code",
   "execution_count": 237,
   "metadata": {},
   "outputs": [
    {
     "name": "stdout",
     "output_type": "stream",
     "text": [
      "0 - Non-0: 130. Total: 130. Ratio: 1.0\n",
      "1 - Non-0: 130. Total: 130. Ratio: 1.0\n",
      "2 - Non-0: 130. Total: 130. Ratio: 1.0\n",
      "3 - Non-0: 130. Total: 130. Ratio: 1.0\n",
      "4 - Non-0: 130. Total: 130. Ratio: 1.0\n",
      "5 - Non-0: 130. Total: 130. Ratio: 1.0\n"
     ]
    },
    {
     "data": {
      "text/plain": [
       "{'fit_time': array([ 10.1817,   9.4924,   8.5297,   8.5513,   8.5797,   9.0601]),\n",
       " 'score_time': array([ 0.5394,  0.5378,  0.5184,  0.5298,  0.531 ,  0.5654]),\n",
       " 'test_score': array([ 0.8772,  0.8772,  0.8722,  0.8728,  0.8816,  0.8899]),\n",
       " 'train_score': array([ 0.9121,  0.9429,  0.9254,  0.9187,  0.9297,  0.9298])}"
      ]
     },
     "execution_count": 237,
     "metadata": {},
     "output_type": "execute_result"
    }
   ],
   "source": [
    "scoring.iteration = 0\n",
    "folds = RepeatedStratifiedKFold(n_splits=3, n_repeats=2)\n",
    "cross_validate(sparse_pipeline, X, y, cv=folds, scoring=scoring)"
   ]
  },
  {
   "cell_type": "code",
   "execution_count": 238,
   "metadata": {},
   "outputs": [
    {
     "name": "stdout",
     "output_type": "stream",
     "text": [
      "0 - Non-0: 130. Total: 130. Ratio: 1.0\n",
      "1 - Non-0: 130. Total: 130. Ratio: 1.0\n",
      "2 - Non-0: 130. Total: 130. Ratio: 1.0\n",
      "3 - Non-0: 130. Total: 130. Ratio: 1.0\n",
      "4 - Non-0: 130. Total: 130. Ratio: 1.0\n",
      "5 - Non-0: 130. Total: 130. Ratio: 1.0\n"
     ]
    },
    {
     "data": {
      "text/plain": [
       "{'fit_time': array([ 8.844 ,  8.8455,  8.8662,  8.7617,  8.788 ,  8.7561]),\n",
       " 'score_time': array([ 0.5352,  0.5195,  0.5311,  0.5433,  0.5588,  0.5388]),\n",
       " 'test_score': array([ 0.8816,  0.8772,  0.9295,  0.8991,  0.8991,  0.8899]),\n",
       " 'train_score': array([ 0.9187,  0.9209,  0.9079,  0.9143,  0.9231,  0.8991])}"
      ]
     },
     "execution_count": 238,
     "metadata": {},
     "output_type": "execute_result"
    }
   ],
   "source": [
    "scoring.iteration = 0\n",
    "folds = RepeatedStratifiedKFold(n_splits=3, n_repeats=2)\n",
    "cross_validate(normal_pipeline, X, y, cv=folds, scoring=scoring)"
   ]
  },
  {
   "cell_type": "markdown",
   "metadata": {},
   "source": [
    "==================="
   ]
  },
  {
   "cell_type": "code",
   "execution_count": 269,
   "metadata": {},
   "outputs": [
    {
     "data": {
      "text/plain": [
       "130"
      ]
     },
     "execution_count": 269,
     "metadata": {},
     "output_type": "execute_result"
    }
   ],
   "source": [
    "kernels = [lambda A, B: gauss_kernel(A, B, 2**i) for i in range(-3, 7)]\n",
    "kernels += [lambda A, B: poly_kernel(A, B, 1, i) for i in range(1, 4)]\n",
    "kernels += [lambda A, B: gauss_kernel(A[:, j:j+1], B[:, j:j+1], 2**i) for i in range(-3, 7) for j in range(D)]\n",
    "kernels += [lambda A, B: poly_kernel(A[:, j:j+1], B[:, j:j+1], 1, i) for i in range(1, 4) for j in range(D)]\n",
    "sparse_model = BEMKL(kernels=kernels, alpha_lambda=1, beta_lambda=1, alpha_gamma=1, beta_gamma=1, alpha_omega=1e-11, beta_omega=1e+9)\n",
    "normal_model = BEMKL(kernels=kernels, alpha_lambda=1, beta_lambda=1, alpha_gamma=1, beta_gamma=1, alpha_omega=1, beta_omega=1)\n",
    "len(kernels)"
   ]
  },
  {
   "cell_type": "code",
   "execution_count": 270,
   "metadata": {},
   "outputs": [],
   "source": [
    "sparse_pipeline = make_pipeline(Normalizer(), sparse_model)\n",
    "normal_pipeline = make_pipeline(Normalizer(), normal_model)"
   ]
  },
  {
   "cell_type": "code",
   "execution_count": 271,
   "metadata": {},
   "outputs": [
    {
     "name": "stdout",
     "output_type": "stream",
     "text": [
      "0 - Non-0: 130. Total: 130. Ratio: 1.0\n",
      "1 - Non-0: 130. Total: 130. Ratio: 1.0\n",
      "2 - Non-0: 130. Total: 130. Ratio: 1.0\n"
     ]
    },
    {
     "data": {
      "text/plain": [
       "{'fit_time': array([ 9.4544,  8.7845,  8.8687]),\n",
       " 'score_time': array([ 0.5438,  0.5228,  0.529 ]),\n",
       " 'test_score': array([ 0.8991,  0.8772,  0.8855]),\n",
       " 'train_score': array([ 0.9187,  0.9407,  0.9211])}"
      ]
     },
     "execution_count": 271,
     "metadata": {},
     "output_type": "execute_result"
    }
   ],
   "source": [
    "scoring.iteration = 0\n",
    "folds = RepeatedStratifiedKFold(n_splits=3, n_repeats=1)\n",
    "cross_validate(sparse_pipeline, X, y, cv=folds, scoring=scoring)"
   ]
  },
  {
   "cell_type": "code",
   "execution_count": 272,
   "metadata": {},
   "outputs": [
    {
     "name": "stdout",
     "output_type": "stream",
     "text": [
      "0 - Non-0: 130. Total: 130. Ratio: 1.0\n",
      "1 - Non-0: 130. Total: 130. Ratio: 1.0\n",
      "2 - Non-0: 130. Total: 130. Ratio: 1.0\n"
     ]
    },
    {
     "data": {
      "text/plain": [
       "{'fit_time': array([ 8.7723,  8.475 ,  8.583 ]),\n",
       " 'score_time': array([ 0.518 ,  0.5357,  0.5255]),\n",
       " 'test_score': array([ 0.8991,  0.9079,  0.859 ]),\n",
       " 'train_score': array([ 0.9165,  0.9209,  0.9254])}"
      ]
     },
     "execution_count": 272,
     "metadata": {},
     "output_type": "execute_result"
    }
   ],
   "source": [
    "scoring.iteration = 0\n",
    "folds = RepeatedStratifiedKFold(n_splits=3, n_repeats=1)\n",
    "cross_validate(normal_pipeline, X, y, cv=folds, scoring=scoring)"
   ]
  }
 ],
 "metadata": {
  "kernelspec": {
   "display_name": "pml",
   "language": "python",
   "name": "pml"
  },
  "language_info": {
   "codemirror_mode": {
    "name": "ipython",
    "version": 3
   },
   "file_extension": ".py",
   "mimetype": "text/x-python",
   "name": "python",
   "nbconvert_exporter": "python",
   "pygments_lexer": "ipython3",
   "version": "3.6.3"
  }
 },
 "nbformat": 4,
 "nbformat_minor": 2
}
