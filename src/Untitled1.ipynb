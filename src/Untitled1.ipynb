{
 "cells": [
  {
   "cell_type": "code",
   "execution_count": 1,
   "metadata": {},
   "outputs": [
    {
     "name": "stdout",
     "output_type": "stream",
     "text": [
      "Populating the interactive namespace from numpy and matplotlib\n"
     ]
    }
   ],
   "source": [
    "%pylab inline\n",
    "np.set_printoptions(precision=6, linewidth=100)"
   ]
  },
  {
   "cell_type": "code",
   "execution_count": 2,
   "metadata": {},
   "outputs": [
    {
     "data": {
      "text/plain": [
       "array([[ 0.,  1.,  1.,  1.]])"
      ]
     },
     "execution_count": 2,
     "metadata": {},
     "output_type": "execute_result"
    }
   ],
   "source": [
    "P = 3\n",
    "b_e_μ = np.ones((1, P + 1))\n",
    "b_e_μ[0, 0] = 0\n",
    "b_e_σ = np.eye(P + 1)\n",
    "b_e_μ"
   ]
  },
  {
   "cell_type": "code",
   "execution_count": 4,
   "metadata": {},
   "outputs": [
    {
     "data": {
      "text/plain": [
       "array([[ 1.601969,  0.329826, -0.117059, -0.314183,  0.218641]])"
      ]
     },
     "metadata": {},
     "output_type": "display_data"
    },
    {
     "data": {
      "text/plain": [
       "array([[ 1.,  0.,  0.,  0.,  0.],\n",
       "       [ 0.,  1.,  0.,  0.,  0.],\n",
       "       [ 0.,  0.,  1.,  0.,  0.],\n",
       "       [ 0.,  0.,  0.,  1.,  0.],\n",
       "       [ 0.,  0.,  0.,  0.,  1.]])"
      ]
     },
     "execution_count": 4,
     "metadata": {},
     "output_type": "execute_result"
    }
   ],
   "source": [
    "N = 5\n",
    "a_μ = np.array([[ 1.601969,  0.329826, -0.117059, -0.314183,  0.218641]])\n",
    "a_Σ = np.eye(N)\n",
    "display(a_μ)\n",
    "a_Σ"
   ]
  },
  {
   "cell_type": "code",
   "execution_count": 5,
   "metadata": {},
   "outputs": [
    {
     "data": {
      "text/plain": [
       "array([[ 3.566305,  0.528371, -0.187525, -0.503311,  0.350256],\n",
       "       [ 0.528371,  1.108785, -0.038609, -0.103626,  0.072113],\n",
       "       [-0.187525, -0.038609,  1.013703,  0.036778, -0.025594],\n",
       "       [-0.503311, -0.103626,  0.036778,  1.098711, -0.068693],\n",
       "       [ 0.350256,  0.072113, -0.025594, -0.068693,  1.047804]])"
      ]
     },
     "execution_count": 5,
     "metadata": {},
     "output_type": "execute_result"
    }
   ],
   "source": [
    "a_sqrd_mu = a_μ.T @ a_μ + a_Σ\n",
    "a_sqrd_mu"
   ]
  },
  {
   "cell_type": "code",
   "execution_count": 6,
   "metadata": {},
   "outputs": [
    {
     "data": {
      "text/plain": [
       "array([ 0.359305,  0.643338,  0.663635,  0.64543 ,  0.65621 ])"
      ]
     },
     "execution_count": 6,
     "metadata": {},
     "output_type": "execute_result"
    }
   ],
   "source": [
    "λ_β = 1\n",
    "1 / (1 / λ_β + 0.5 * np.diag(a_sqrd_mu))"
   ]
  },
  {
   "cell_type": "code",
   "execution_count": 10,
   "metadata": {},
   "outputs": [
    {
     "data": {
      "text/plain": [
       "array([[ 12.843901,   7.818591,   4.470164],\n",
       "       [  7.818591,  15.968881,   6.800242],\n",
       "       [  4.470164,   6.800242,  13.109883]])"
      ]
     },
     "execution_count": 10,
     "metadata": {},
     "output_type": "execute_result"
    }
   ],
   "source": [
    "y = np.random.randn(1, N)\n",
    "margin = 0.1\n",
    "G_μ = np.array([\n",
    "    [-1.31929,  -0.45312,  -0.55603,   1.48597,  -1.83869],\n",
    "    [-0.80358,  -0.70127,  -0.53890,   2.93264,  -0.96983],\n",
    "    [-0.10758,  -2.27073,  -0.78157,   1.48413,  -0.35861],\n",
    "]).T\n",
    "G_Σ = np.eye(P)\n",
    "G_sqrd_mu = G_μ.T @ G_μ + N * G_Σ\n",
    "G_sqrd_mu.T"
   ]
  },
  {
   "cell_type": "code",
   "execution_count": 11,
   "metadata": {},
   "outputs": [
    {
     "data": {
      "text/plain": [
       "(1.5, 1)"
      ]
     },
     "execution_count": 11,
     "metadata": {},
     "output_type": "execute_result"
    }
   ],
   "source": [
    "γ_α = 1\n",
    "γ_β = 1\n",
    "γ_α = γ_α + 0.5\n",
    "γ_β = γ_β\n",
    "γ_α, γ_β"
   ]
  },
  {
   "cell_type": "code",
   "execution_count": 13,
   "metadata": {},
   "outputs": [
    {
     "data": {
      "text/plain": [
       "(array([ 1.5,  1.5,  1.5]), array([ 1.,  1.,  1.]))"
      ]
     },
     "execution_count": 13,
     "metadata": {},
     "output_type": "execute_result"
    }
   ],
   "source": [
    "ω_α, ω_β = 1, 1\n",
    "ω_α = (ω_α + 0.5) * np.ones(P)\n",
    "ω_β = ω_β * np.ones(P)\n",
    "ω_α, ω_β"
   ]
  },
  {
   "cell_type": "code",
   "execution_count": 14,
   "metadata": {},
   "outputs": [
    {
     "data": {
      "text/plain": [
       "1.0"
      ]
     },
     "execution_count": 14,
     "metadata": {},
     "output_type": "execute_result"
    }
   ],
   "source": [
    "b_e_μ = np.ones((1, P + 1))\n",
    "b_e_μ[0, 0] = 0\n",
    "b_e_Σ = np.eye(P + 1)\n",
    "b_sqrd_mu = b_e_μ[0, 0]**2 + b_e_Σ[0, 0]\n",
    "b_sqrd_mu"
   ]
  },
  {
   "cell_type": "code",
   "execution_count": 16,
   "metadata": {},
   "outputs": [
    {
     "data": {
      "text/plain": [
       "array([[ 2.,  1.,  1.],\n",
       "       [ 1.,  2.,  1.],\n",
       "       [ 1.,  1.,  2.]])"
      ]
     },
     "execution_count": 16,
     "metadata": {},
     "output_type": "execute_result"
    }
   ],
   "source": [
    "e_μ = np.atleast_2d(b_e_μ[0, 1: P+1])\n",
    "e_sqrd_mu = e_μ.T @ e_μ + b_e_Σ[1: P+1, 1: P+1]\n",
    "e_sqrd_mu.T"
   ]
  },
  {
   "cell_type": "code",
   "execution_count": 17,
   "metadata": {},
   "outputs": [
    {
     "data": {
      "text/plain": [
       "array([[ 0.],\n",
       "       [ 0.],\n",
       "       [ 0.]])"
      ]
     },
     "execution_count": 17,
     "metadata": {},
     "output_type": "execute_result"
    }
   ],
   "source": [
    "b_μ = b_e_μ[0, 0]\n",
    "etimesb_mu = e_μ * b_μ + b_e_Σ[0, 1: P+1]\n",
    "etimesb_mu.T"
   ]
  },
  {
   "cell_type": "code",
   "execution_count": 23,
   "metadata": {},
   "outputs": [
    {
     "data": {
      "text/plain": [
       "array([[  2.372055,  -0.166453,  -1.430757,  -0.442533,  -2.112507],\n",
       "       [ -0.166453,   4.785785,   1.776908,   3.062804,  -3.26119 ],\n",
       "       [ -1.430757,   1.776908,   3.195641,   0.271219,   2.521425],\n",
       "       [ -0.442533,   3.062804,   0.271219,   5.554183,  -1.244647],\n",
       "       [ -2.112507,  -3.26119 ,   2.521425,  -1.244647,  10.424807],\n",
       "       [  3.474971,   1.055947,   1.42341 ,  -0.947733,  -0.590953],\n",
       "       [  1.055947,   3.358305,   3.458682,   1.855405,  -1.476299],\n",
       "       [  1.42341 ,   3.458682,   4.816339,   2.455466,  -2.534247],\n",
       "       [ -0.947733,   1.855405,   2.455466,   4.315312,  -1.027061],\n",
       "       [ -0.590953,  -1.476299,  -2.534247,  -1.027061,   3.01007 ],\n",
       "       [  3.215253,   1.136621,  -0.456287,   2.361439,  -2.411206],\n",
       "       [  1.136621,   4.420881,   1.302505,   0.598304,  -0.333053],\n",
       "       [ -0.456287,   1.302505,   0.826788,  -0.077498,  -0.078565],\n",
       "       [  2.361439,   0.598304,  -0.077498,   2.839409,  -2.504883],\n",
       "       [ -2.411206,  -0.333053,  -0.078565,  -2.504883,   4.97738 ]])"
      ]
     },
     "execution_count": 23,
     "metadata": {},
     "output_type": "execute_result"
    }
   ],
   "source": [
    "Km = np.array([\n",
    "    np.array([\n",
    "        [ 0.56838,   1.51626,  -0.20037,   1.45376,  -2.49727],\n",
    "        [ 1.01879,  -0.40727,  -0.49090,  -1.74470,  -1.28977],\n",
    "        [-0.15542,   0.53447,  -0.61669,   0.19741,  -1.35775],\n",
    "        [-0.72485,  -0.51523,  -0.21880,  -0.56786,  -0.78998],\n",
    "        [-0.67934,   1.33032,   1.57681,  -0.18802,   0.23956],\n",
    "    ]).T,\n",
    "    np.array([\n",
    "        [-0.179153,   0.674168,   1.318130,   0.484322,  -1.617275],\n",
    "        [ 1.763877,   0.250997,   0.744438,  -0.455527,  -0.428262],\n",
    "        [ 0.284299,  -0.326718,  -0.981868,  -1.362489,  -0.134497],\n",
    "        [-0.093904,  -0.223421,  -0.237777,   1.112312,  -0.363701],\n",
    "        [ 0.491904,   1.638335,   1.226410,   0.882964,  -0.246404],\n",
    "    ]).T,\n",
    "    np.array([\n",
    "        [0.477846,  -0.211240,  -0.271033,  -0.541024,  -1.605032],\n",
    "        [1.729209,  -0.735072,  -0.930630,  -0.119068,   0.100684],\n",
    "        [0.410233,  -0.211251,  -0.495780,   0.494715,   0.351183],\n",
    "        [0.367503,  -0.339801,   0.075237,   0.542799,  -1.512810],\n",
    "        [0.681412,   1.044796,   1.006449,  -0.343455,   1.513459],\n",
    "    ])\n",
    "])\n",
    "\n",
    "for i in range(3):\n",
    "    Km[i] = Km[i] @ Km[i].T\n",
    "Km = Km.reshape(N*P, N)\n",
    "Km"
   ]
  },
  {
   "cell_type": "code",
   "execution_count": 37,
   "metadata": {},
   "outputs": [
    {
     "data": {
      "text/plain": [
       "array([[ -3.70175 ],\n",
       "       [ -0.784366],\n",
       "       [ -4.963807],\n",
       "       [ 24.163993],\n",
       "       [-24.6946  ]])"
      ]
     },
     "execution_count": 37,
     "metadata": {},
     "output_type": "execute_result"
    }
   ],
   "source": [
    "KmTtimesG_mu = G_μ.T.reshape(1, N * P) @ Km\n",
    "KmTtimesG_mu.T"
   ]
  },
  {
   "cell_type": "code",
   "execution_count": 26,
   "metadata": {},
   "outputs": [
    {
     "data": {
      "text/plain": [
       "array([[-0.372648],\n",
       "       [-0.503973],\n",
       "       [ 0.08624 ],\n",
       "       [ 0.447222],\n",
       "       [-0.304406]])"
      ]
     },
     "metadata": {},
     "output_type": "display_data"
    },
    {
     "data": {
      "text/plain": [
       "array([[  3.393376e-04,   2.703616e-05,  -4.548174e-05,   3.773875e-05,   1.407879e-04],\n",
       "       [  2.703616e-05,   3.771051e-04,  -2.219671e-04,  -9.674394e-05,   1.313759e-04],\n",
       "       [ -4.548174e-05,  -2.219671e-04,   3.174410e-04,  -4.732261e-05,  -1.293423e-04],\n",
       "       [  3.773875e-05,  -9.674394e-05,  -4.732261e-05,   2.356750e-04,   6.150390e-05],\n",
       "       [  1.407879e-04,   1.313759e-04,  -1.293423e-04,   6.150390e-05,   1.797699e-04]])"
      ]
     },
     "metadata": {},
     "output_type": "display_data"
    },
    {
     "data": {
      "text/plain": [
       "array([[ 0.139206,  0.187832, -0.032183, -0.166619,  0.113577],\n",
       "       [ 0.187832,  0.254366, -0.043685, -0.225485,  0.153544],\n",
       "       [-0.032183, -0.043685,  0.007755,  0.038521, -0.026381],\n",
       "       [-0.166619, -0.225485,  0.038521,  0.200243, -0.136075],\n",
       "       [ 0.113577,  0.153544, -0.026381, -0.136075,  0.092843]])"
      ]
     },
     "execution_count": 26,
     "metadata": {},
     "output_type": "execute_result"
    }
   ],
   "source": [
    "λ_α = (1 + 0.5) * np.ones(N)\n",
    "λ_β = 1 * np.ones(N)\n",
    "sigma_g = 0.1\n",
    "\n",
    "KmKm = np.zeros((N, N))\n",
    "Km = Km.reshape(P, N, N)\n",
    "for i in range(P):\n",
    "    KmKm += Km[i, :, :].T @ Km[i, :, :]\n",
    "Km = Km.reshape(P*N, N)\n",
    "\n",
    "a_Σ = np.linalg.solve(\n",
    "    (np.diag(λ_α * λ_β) + KmKm / sigma_g**2),\n",
    "    np.eye(N)\n",
    ")\n",
    "a_μ = KmTtimesG_mu @ a_Σ / sigma_g**2\n",
    "a_sqrd_μ = a_μ.T @ a_μ + a_Σ\n",
    "\n",
    "display(a_μ.T)\n",
    "display(a_Σ.T)\n",
    "a_sqrd_μ.T"
   ]
  },
  {
   "cell_type": "code",
   "execution_count": 53,
   "metadata": {},
   "outputs": [
    {
     "data": {
      "text/plain": [
       "array([[ -4.532580e-01,   1.898999e-01,  -7.245836e-01,   1.453835e+00,  -1.031339e+00],\n",
       "       [ -1.908721e+00,  -4.778065e-01,   1.246592e-02,   1.815065e+00,  -5.839589e-01],\n",
       "       [  2.393523e-04,  -2.123090e+00,  -4.204656e-01,   7.969915e-01,  -1.520442e+00]])"
      ]
     },
     "metadata": {},
     "output_type": "display_data"
    },
    {
     "data": {
      "text/plain": [
       "array([[  9.805788e-03,  -9.520183e-05,  -9.520183e-05],\n",
       "       [ -9.520183e-05,   9.805788e-03,  -9.520183e-05],\n",
       "       [ -9.520183e-05,  -9.520183e-05,   9.805788e-03]])"
      ]
     },
     "metadata": {},
     "output_type": "display_data"
    },
    {
     "data": {
      "text/plain": [
       "array([[ 3.992851,  4.005964,  2.627688],\n",
       "       [ 4.005964,  7.55617 ,  3.342719],\n",
       "       [ 2.627688,  3.342719,  7.680268]])"
      ]
     },
     "metadata": {},
     "output_type": "display_data"
    },
    {
     "data": {
      "text/plain": [
       "array([ -3.70175 ,  -0.784366,  -4.963807,  24.163993, -24.6946  ])"
      ]
     },
     "metadata": {},
     "output_type": "display_data"
    }
   ],
   "source": [
    "f_μ = np.array([[-0.311384,  0.184717, -1.016264,  0.147183,  0.877273]])\n",
    "f_σ = np.ones(N)\n",
    "\n",
    "G_Σ = np.linalg.solve(\n",
    "    (np.eye(P) / sigma_g**2 + e_sqrd_mu),\n",
    "    np.eye(P)\n",
    ")\n",
    "G_μ = ((a_μ @ Km.T).reshape(P, N).T / sigma_g**2 +\n",
    "       np.outer(f_μ, b_e_μ[0, 1: P + 1]) -\n",
    "       etimesb_mu) @ G_Σ\n",
    "G_sqrd_μ = G_μ.T @ G_μ + N * G_Σ\n",
    "KmTtimesG_μ = G_μ.T.reshape(N * P) @ Km\n",
    "\n",
    "display(G_μ.T)\n",
    "display(G_Σ.T)\n",
    "display(G_sqrd_μ.T)\n",
    "display(KmTtimesG_μ.T)"
   ]
  },
  {
   "cell_type": "code",
   "execution_count": 54,
   "metadata": {},
   "outputs": [
    {
     "data": {
      "text/plain": [
       "(1.5, 0.66666666666666663)"
      ]
     },
     "execution_count": 54,
     "metadata": {},
     "output_type": "execute_result"
    }
   ],
   "source": [
    "γ_β = 1 / (1 / γ_β + 0.5 * b_sqrd_mu)\n",
    "γ_α, γ_β"
   ]
  },
  {
   "cell_type": "code",
   "execution_count": 55,
   "metadata": {},
   "outputs": [
    {
     "data": {
      "text/plain": [
       "(array([ 1.5,  1.5,  1.5]), array([ 0.5,  0.5,  0.5]))"
      ]
     },
     "execution_count": 55,
     "metadata": {},
     "output_type": "execute_result"
    }
   ],
   "source": [
    "ω_β = 1 / (1 / ω_β + 0.5 * np.diag(e_sqrd_mu))\n",
    "ω_α, ω_β"
   ]
  },
  {
   "cell_type": "code",
   "execution_count": 92,
   "metadata": {},
   "outputs": [
    {
     "data": {
      "text/plain": [
       "array([[-0.135541],\n",
       "       [ 0.126941],\n",
       "       [ 0.051734],\n",
       "       [-0.25275 ]])"
      ]
     },
     "metadata": {},
     "output_type": "display_data"
    },
    {
     "data": {
      "text/plain": [
       "array([[ 0.213937, -0.031152,  0.008558,  0.089218],\n",
       "       [-0.031152,  0.379734, -0.160557, -0.066771],\n",
       "       [ 0.008558, -0.160557,  0.211238, -0.030397],\n",
       "       [ 0.089218, -0.066771, -0.030397,  0.186058]])"
      ]
     },
     "metadata": {},
     "output_type": "display_data"
    },
    {
     "data": {
      "text/plain": [
       "0.23230814495412966"
      ]
     },
     "metadata": {},
     "output_type": "display_data"
    },
    {
     "data": {
      "text/plain": [
       "array([[ 0.395848, -0.15399 , -0.098855],\n",
       "       [-0.15399 ,  0.213914, -0.043473],\n",
       "       [-0.098855, -0.043473,  0.24994 ]])"
      ]
     },
     "metadata": {},
     "output_type": "display_data"
    },
    {
     "data": {
      "text/plain": [
       "array([[-0.048358,  0.001546,  0.123476]])"
      ]
     },
     "execution_count": 92,
     "metadata": {},
     "output_type": "execute_result"
    }
   ],
   "source": [
    "b_e_Σ = np.linalg.solve(\n",
    "    np.r_['1,2',\n",
    "          np.r_['1,2', [γ_α * γ_β + N], G_μ.sum(axis=0)].T,\n",
    "          np.r_['0,2', G_μ.sum(axis=0), np.diag(ω_α * ω_β) + G_sqrd_μ]],\n",
    "    np.eye(P + 1)\n",
    ")\n",
    "b_e_μ = (f_μ @ np.r_['1,2', np.ones((N, 1)), G_μ]) @ b_e_Σ\n",
    "e_μ = np.atleast_2d(b_e_μ[0, 1: P + 1])\n",
    "b_μ = b_e_μ[0, 0]\n",
    "b_sqrd_μ = b_μ**2 + b_e_Σ[0, 0]\n",
    "e_sqrd_μ = e_μ.T @ e_μ + b_e_Σ[1: P + 1, 1: P + 1]\n",
    "etimesb_μ = e_μ * b_μ + b_e_Σ[0, 1: P + 1]\n",
    "\n",
    "display(b_e_μ.T)\n",
    "display(b_e_Σ.T)\n",
    "display(b_sqrd_μ)\n",
    "display(e_sqrd_μ)\n",
    "etimesb_μ"
   ]
  },
  {
   "cell_type": "code",
   "execution_count": 121,
   "metadata": {},
   "outputs": [
    {
     "data": {
      "text/plain": [
       "array([[-0.291883],\n",
       "       [ 0.400458],\n",
       "       [-0.120602],\n",
       "       [-0.058529],\n",
       "       [ 0.087622]])"
      ]
     },
     "metadata": {},
     "output_type": "display_data"
    },
    {
     "name": "stdout",
     "output_type": "stream",
     "text": [
      "\n"
     ]
    },
    {
     "data": {
      "text/plain": [
       "array([[  1.291883e+00],\n",
       "       [  5.995419e-01],\n",
       "       [ -1.000000e+40],\n",
       "       [  1.058529e+00],\n",
       "       [ -1.000000e+40]])"
      ]
     },
     "metadata": {},
     "output_type": "display_data"
    },
    {
     "name": "stdout",
     "output_type": "stream",
     "text": [
      "\n"
     ]
    },
    {
     "data": {
      "text/plain": [
       "array([[  1.000000e+40],\n",
       "       [  1.000000e+40],\n",
       "       [ -8.793977e-01],\n",
       "       [  1.000000e+40],\n",
       "       [ -1.087622e+00]])"
      ]
     },
     "metadata": {},
     "output_type": "display_data"
    },
    {
     "name": "stdout",
     "output_type": "stream",
     "text": [
      "\n"
     ]
    },
    {
     "data": {
      "text/plain": [
       "array([[ 0.098199],\n",
       "       [ 0.274406],\n",
       "       [ 0.189593],\n",
       "       [ 0.144907],\n",
       "       [ 0.138381]])"
      ]
     },
     "metadata": {},
     "output_type": "display_data"
    },
    {
     "name": "stdout",
     "output_type": "stream",
     "text": [
      "\n"
     ]
    },
    {
     "data": {
      "text/plain": [
       "array([[ 1.471689],\n",
       "       [ 1.615142],\n",
       "       [-1.550021],\n",
       "       [ 1.51368 ],\n",
       "       [-1.50813 ]])"
      ]
     },
     "metadata": {},
     "output_type": "display_data"
    },
    {
     "name": "stdout",
     "output_type": "stream",
     "text": [
      "\n"
     ]
    },
    {
     "data": {
      "text/plain": [
       "array([[ 0.168141],\n",
       "       [ 0.252798],\n",
       "       [ 0.21379 ],\n",
       "       [ 0.192388],\n",
       "       [ 0.18915 ]])"
      ]
     },
     "execution_count": 121,
     "metadata": {},
     "output_type": "execute_result"
    }
   ],
   "source": [
    "from scipy.stats import norm as sp_norm\n",
    "\n",
    "y = np.array([0.83460, 0.75760, -0.58986, 1.18739, -1.98762])\n",
    "lower_bound = -1e40 * np.ones(N)\n",
    "lower_bound[y > 0] =  margin\n",
    "upper_bound = 1e40 * np.ones(N)\n",
    "upper_bound[y < 0] = -margin\n",
    "\n",
    "output = b_e_μ @ np.r_['1,2', np.ones((N, 1)), G_μ].T\n",
    "alpha_norm = lower_bound - output\n",
    "beta_norm = upper_bound - output\n",
    "normalization = sp_norm.cdf(beta_norm) - sp_norm.cdf(alpha_norm)\n",
    "normalization[normalization == 0] = 1\n",
    "f_μ = (\n",
    "    output +\n",
    "    (sp_norm.pdf(alpha_norm) - sp_norm.pdf(beta_norm)) /\n",
    "    normalization\n",
    ")\n",
    "f_Σ = (\n",
    "    1 +\n",
    "    (alpha_norm * sp_norm.pdf(alpha_norm) -\n",
    "     beta_norm * sp_norm.pdf(beta_norm)) / normalization -\n",
    "    (sp_norm.pdf(alpha_norm) -\n",
    "     sp_norm.pdf(beta_norm))**2 / normalization**2\n",
    ")\n",
    "display(output.T)\n",
    "print()\n",
    "display(alpha_norm.T)\n",
    "print()\n",
    "display(beta_norm.T)\n",
    "print()\n",
    "display(normalization.T)\n",
    "print()\n",
    "display(f_μ.T)\n",
    "print()\n",
    "f_Σ.T"
   ]
  },
  {
   "cell_type": "code",
   "execution_count": 103,
   "metadata": {},
   "outputs": [
    {
     "data": {
      "text/plain": [
       "array([[-0.291883,  0.400458, -0.120602, -0.058529,  0.087622]])"
      ]
     },
     "execution_count": 103,
     "metadata": {},
     "output_type": "execute_result"
    }
   ],
   "source": [
    "b_e_μ @ np.r_['1,2', np.ones((N, 1)), G_μ].T"
   ]
  },
  {
   "cell_type": "code",
   "execution_count": 39,
   "metadata": {},
   "outputs": [
    {
     "data": {
      "text/plain": [
       "array([ 0.404743,  0.635032,  0.443307,  0.481038,  0.540082])"
      ]
     },
     "execution_count": 39,
     "metadata": {},
     "output_type": "execute_result"
    }
   ],
   "source": [
    "from scipy.stats import norm as sp_norm\n",
    "Km = np.array([\n",
    "    np.array([\n",
    "        [ 0.56838,   1.51626,  -0.20037,   1.45376,  -2.49727],\n",
    "        [ 1.01879,  -0.40727,  -0.49090,  -1.74470,  -1.28977],\n",
    "        [-0.15542,   0.53447,  -0.61669,   0.19741,  -1.35775],\n",
    "        [-0.72485,  -0.51523,  -0.21880,  -0.56786,  -0.78998],\n",
    "        [-0.67934,   1.33032,   1.57681,  -0.18802,   0.23956],\n",
    "    ]).T,\n",
    "    np.array([\n",
    "        [-0.179153,   0.674168,   1.318130,   0.484322,  -1.617275],\n",
    "        [ 1.763877,   0.250997,   0.744438,  -0.455527,  -0.428262],\n",
    "        [ 0.284299,  -0.326718,  -0.981868,  -1.362489,  -0.134497],\n",
    "        [-0.093904,  -0.223421,  -0.237777,   1.112312,  -0.363701],\n",
    "        [ 0.491904,   1.638335,   1.226410,   0.882964,  -0.246404],\n",
    "    ]).T,\n",
    "    np.array([\n",
    "        [0.477846,  -0.211240,  -0.271033,  -0.541024,  -1.605032],\n",
    "        [1.729209,  -0.735072,  -0.930630,  -0.119068,   0.100684],\n",
    "        [0.410233,  -0.211251,  -0.495780,   0.494715,   0.351183],\n",
    "        [0.367503,  -0.339801,   0.075237,   0.542799,  -1.512810],\n",
    "        [0.681412,   1.044796,   1.006449,  -0.343455,   1.513459],\n",
    "    ])\n",
    "])\n",
    "\n",
    "P, N, _ = Km.shape\n",
    "\n",
    "a_mu = np.array([-0.372648, -0.503973, 0.086240, 0.447222, -0.304406])\n",
    "a_sigma = np.array([\n",
    "      [ 3.3934e-04,   2.7036e-05,  -4.5482e-05,   3.7739e-05,   1.4079e-04],\n",
    "      [ 2.7036e-05,   3.7711e-04,  -2.2197e-04,  -9.6744e-05,   1.3138e-04],\n",
    "      [-4.5482e-05,  -2.2197e-04,   3.1744e-04,  -4.7323e-05,  -1.2934e-04],\n",
    "      [ 3.7739e-05,  -9.6744e-05,  -4.7323e-05,   2.3568e-04,   6.1504e-05],\n",
    "      [ 1.4079e-04,   1.3138e-04,  -1.2934e-04,   6.1504e-05,   1.7977e-04],\n",
    "]).T\n",
    "b_e_mu = np.array([-0.135540, 0.126941, 0.051734, -0.252750])\n",
    "b_e_sigma = np.array([\n",
    "      [ 0.2139369,  -0.0311523,   0.0085580,   0.0892182],\n",
    "      [-0.0311523,   0.3797341,  -0.1605567,  -0.0667706],\n",
    "      [ 0.0085580,  -0.1605567,   0.2112376,  -0.0303974],\n",
    "      [ 0.0892182,  -0.0667706,  -0.0303974,   0.1860578],\n",
    "]).T\n",
    "sigma_g = 0.1\n",
    "margin = 1\n",
    "\n",
    "for i in range(3):\n",
    "    Km[i] = Km[i] @ Km[i].T\n",
    "\n",
    "G_mu = np.zeros((N, P))\n",
    "G_sigma = np.zeros((N, P))\n",
    "for i in range(P):\n",
    "    G_mu[:, i] = Km[i, :, :].T @ a_mu\n",
    "    G_sigma[:, i] = (\n",
    "        sigma_g**2 +\n",
    "        np.diag(Km[i, :, :] @ a_sigma.T @ Km[i, :, :].T)\n",
    "    )\n",
    "\n",
    "G_mu_ext = np.r_['1,2', np.ones((N, 1)), G_mu]\n",
    "f_mu = G_mu_ext @ b_e_mu\n",
    "f_sigma = 1 + np.diag(G_mu_ext @ b_e_sigma @ G_mu_ext.T)\n",
    "pos = 1 - sp_norm.cdf((margin - f_mu) / f_sigma)\n",
    "neg = sp_norm.cdf((-margin - f_mu) / f_sigma)\n",
    "p = pos / (pos + neg)\n",
    "p"
   ]
  },
  {
   "cell_type": "code",
   "execution_count": 36,
   "metadata": {},
   "outputs": [
    {
     "data": {
      "text/plain": [
       "array([-0.39499 , -0.801165, -0.636074, -0.503285, -0.742019])"
      ]
     },
     "execution_count": 36,
     "metadata": {},
     "output_type": "execute_result"
    }
   ],
   "source": [
    "(-margin - f_mu) / f_sigma"
   ]
  }
 ],
 "metadata": {
  "kernelspec": {
   "display_name": "Python3",
   "language": "python",
   "name": "python3"
  },
  "language_info": {
   "codemirror_mode": {
    "name": "ipython",
    "version": 3
   },
   "file_extension": ".py",
   "mimetype": "text/x-python",
   "name": "python",
   "nbconvert_exporter": "python",
   "pygments_lexer": "ipython3",
   "version": "3.6.3"
  }
 },
 "nbformat": 4,
 "nbformat_minor": 2
}
